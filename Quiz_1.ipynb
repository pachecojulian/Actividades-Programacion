{
  "nbformat": 4,
  "nbformat_minor": 0,
  "metadata": {
    "colab": {
      "provenance": [],
      "authorship_tag": "ABX9TyO9OKFbH0Y8sFsG6cuVp2Sr",
      "include_colab_link": true
    },
    "kernelspec": {
      "name": "python3",
      "display_name": "Python 3"
    },
    "language_info": {
      "name": "python"
    }
  },
  "cells": [
    {
      "cell_type": "markdown",
      "metadata": {
        "id": "view-in-github",
        "colab_type": "text"
      },
      "source": [
        "<a href=\"https://colab.research.google.com/github/pachecojulian/Actividades-Programacion/blob/main/Quiz_1.ipynb\" target=\"_parent\"><img src=\"https://colab.research.google.com/assets/colab-badge.svg\" alt=\"Open In Colab\"/></a>"
      ]
    },
    {
      "cell_type": "code",
      "execution_count": 1,
      "metadata": {
        "colab": {
          "base_uri": "https://localhost:8080/"
        },
        "id": "PDQdEbUN5v0G",
        "outputId": "742502a9-04df-41a8-937d-ba7ab02c5bfa"
      },
      "outputs": [
        {
          "output_type": "stream",
          "name": "stdout",
          "text": [
            "<map object at 0x78e6b2114700>\n",
            "<map object at 0x78e6b2114700>\n",
            "<map object at 0x78e6b2114700>\n",
            "<map object at 0x78e6b2114700>\n"
          ]
        }
      ],
      "source": [
        "e=[1,2,3,5]\n",
        "\n",
        "def suma(x):\n",
        "  return x+5\n",
        "\n",
        "y=map(suma,e)\n",
        "\n",
        "for i in y:\n",
        "  print(y)\n"
      ]
    },
    {
      "cell_type": "code",
      "source": [
        "def par (g):\n",
        "  return g%2==0\n",
        "\n",
        "filter(par,e)\n",
        "print(filter (par,e))"
      ],
      "metadata": {
        "colab": {
          "base_uri": "https://localhost:8080/"
        },
        "id": "U8X7wdEC58Oy",
        "outputId": "66e84186-03cc-4807-c912-6fa38bf7a777"
      },
      "execution_count": 2,
      "outputs": [
        {
          "output_type": "stream",
          "name": "stdout",
          "text": [
            "<filter object at 0x78e6b2114220>\n"
          ]
        }
      ]
    },
    {
      "cell_type": "code",
      "source": [
        "\n",
        "e=tuple(filter(lambda x:x%2==0, [1,5,3,2,6]))\n",
        "tuple (map(lambda x:x/2,e))"
      ],
      "metadata": {
        "id": "OqTGBXpa5_dl",
        "outputId": "a0cd5e85-4dd3-46b5-85ee-55de46ae8946",
        "colab": {
          "base_uri": "https://localhost:8080/"
        }
      },
      "execution_count": 3,
      "outputs": [
        {
          "output_type": "execute_result",
          "data": {
            "text/plain": [
              "(1.0, 3.0)"
            ]
          },
          "metadata": {},
          "execution_count": 3
        }
      ]
    }
  ]
}