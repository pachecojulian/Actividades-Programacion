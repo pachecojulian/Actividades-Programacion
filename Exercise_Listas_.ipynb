{
  "nbformat": 4,
  "nbformat_minor": 0,
  "metadata": {
    "colab": {
      "provenance": [],
      "authorship_tag": "ABX9TyMU8aHc/tmwW/ifhfeXcQLk",
      "include_colab_link": true
    },
    "kernelspec": {
      "name": "python3",
      "display_name": "Python 3"
    },
    "language_info": {
      "name": "python"
    }
  },
  "cells": [
    {
      "cell_type": "markdown",
      "metadata": {
        "id": "view-in-github",
        "colab_type": "text"
      },
      "source": [
        "<a href=\"https://colab.research.google.com/github/pachecojulian/Actividades-Programacion/blob/main/Exercise_Listas_.ipynb\" target=\"_parent\"><img src=\"https://colab.research.google.com/assets/colab-badge.svg\" alt=\"Open In Colab\"/></a>"
      ]
    },
    {
      "cell_type": "code",
      "execution_count": null,
      "metadata": {
        "id": "Vv2nRucI8EVn"
      },
      "outputs": [],
      "source": []
    },
    {
      "cell_type": "markdown",
      "source": [
        "Reorganice la lista"
      ],
      "metadata": {
        "id": "1ufSEJQg8Mly"
      }
    },
    {
      "cell_type": "code",
      "source": [
        "def reorganizar(l):\n",
        "  n=len(l)\n",
        "  if n % 2 == 1:\n",
        "    m=n//2\n",
        "    r=l[m+1:]+l[m:m+1]+l[:m]\n",
        "  else:\n",
        "    m=n//2\n",
        "    r=l[m:]+l[:m]\n",
        "  return r\n",
        "\n",
        "g=[1, 4, 8, 6, 3]\n",
        "\n",
        "x = reorganizar(g)\n",
        "print(x)\n",
        ""
      ],
      "metadata": {
        "colab": {
          "base_uri": "https://localhost:8080/"
        },
        "id": "OGURup-a8PWm",
        "outputId": "e73877d5-6ff1-4265-ab47-92088db32117"
      },
      "execution_count": 5,
      "outputs": [
        {
          "output_type": "stream",
          "name": "stdout",
          "text": [
            "[6, 3, 8, 1, 4]\n"
          ]
        }
      ]
    },
    {
      "cell_type": "code",
      "source": [
        "def reorganizar(l):\n",
        "  n=len(l)\n",
        "  if n % 2 == 1:\n",
        "    m=n//2\n",
        "    r=l[m+1:]+l[m:m+1]+l[:m]\n",
        "  else:\n",
        "    m=n//2\n",
        "    r=l[m:]+l[:m]\n",
        "  return r\n",
        "\n",
        "g=[4, 2, 6]\n",
        "\n",
        "x = reorganizar(g)\n",
        "print(x)"
      ],
      "metadata": {
        "colab": {
          "base_uri": "https://localhost:8080/"
        },
        "id": "sUZUjN7F8ssE",
        "outputId": "a5034092-513c-4406-9e77-26f5666e14d6"
      },
      "execution_count": 3,
      "outputs": [
        {
          "output_type": "stream",
          "name": "stdout",
          "text": [
            "[6, 2, 4]\n"
          ]
        }
      ]
    },
    {
      "cell_type": "code",
      "source": [
        "def reorganizar(l):\n",
        "  n=len(l)\n",
        "  if n % 2 == 1:\n",
        "    m=n//2\n",
        "    r=l[m+1:]+l[m:m+1]+l[:m]\n",
        "  else:\n",
        "    m=n//2\n",
        "    r=l[m:]+l[:m]\n",
        "  return r\n",
        "\n",
        "g=[1, 2, 3, 6]\n",
        "\n",
        "x = reorganizar(g)\n",
        "print(x)"
      ],
      "metadata": {
        "colab": {
          "base_uri": "https://localhost:8080/"
        },
        "id": "bC7abCkK9Hh2",
        "outputId": "25f7ff04-2c89-4901-8f40-3ee24b7e3b1f"
      },
      "execution_count": 6,
      "outputs": [
        {
          "output_type": "stream",
          "name": "stdout",
          "text": [
            "[3, 6, 1, 2]\n"
          ]
        }
      ]
    },
    {
      "cell_type": "code",
      "source": [
        "def reorganizar(l):\n",
        "  n=len(l)\n",
        "  if n % 2 == 1:\n",
        "    m=n//2\n",
        "    r=l[m+1:]+l[m:m+1]+l[:m]\n",
        "  else:\n",
        "    m=n//2\n",
        "    r=l[m:]+l[:m]\n",
        "  return r\n",
        "\n",
        "g=[1, 5]\n",
        "\n",
        "x = reorganizar(g)\n",
        "print(x)"
      ],
      "metadata": {
        "colab": {
          "base_uri": "https://localhost:8080/"
        },
        "id": "lmudbcS29MRy",
        "outputId": "48d2a565-b564-4c3b-fa94-4f84275cc609"
      },
      "execution_count": 7,
      "outputs": [
        {
          "output_type": "stream",
          "name": "stdout",
          "text": [
            "[5, 1]\n"
          ]
        }
      ]
    },
    {
      "cell_type": "markdown",
      "source": [
        "Organice los numeros de el medio"
      ],
      "metadata": {
        "id": "6Cy7tGJJ9Ojg"
      }
    },
    {
      "cell_type": "code",
      "source": [
        "def reordenar_lista(lista):\n",
        "\n",
        "    cambiar_lista = lista[1:-1][::-1]\n",
        "    return [lista[0]] + cambiar_lista + [lista[-1]]\n",
        "\n",
        "g = [1, 2, 3, 4, 5, 6]\n",
        "\n",
        "r = reordenar_lista(g)\n",
        "print(r)\n",
        ""
      ],
      "metadata": {
        "colab": {
          "base_uri": "https://localhost:8080/"
        },
        "id": "sdHWMGda9ix0",
        "outputId": "d7a82764-c9af-4534-bf56-ae3f403317ca"
      },
      "execution_count": 9,
      "outputs": [
        {
          "output_type": "stream",
          "name": "stdout",
          "text": [
            "[1, 5, 4, 3, 2, 6]\n"
          ]
        }
      ]
    },
    {
      "cell_type": "code",
      "source": [
        "def reordenar_lista(lista):\n",
        "\n",
        "    cambiar_lista = lista[1:-1][::-1]\n",
        "    return [lista[0]] + cambiar_lista + [lista[-1]]\n",
        "\n",
        "g = [5, 1, 8, 6, 2]\n",
        "\n",
        "r = reordenar_lista(g)\n",
        "print(r)"
      ],
      "metadata": {
        "colab": {
          "base_uri": "https://localhost:8080/"
        },
        "id": "LfPSFAbw9Tnd",
        "outputId": "d317efa3-3811-4e70-e6e1-f16a80b398ef"
      },
      "execution_count": 8,
      "outputs": [
        {
          "output_type": "stream",
          "name": "stdout",
          "text": [
            "[5, 6, 8, 1, 2]\n"
          ]
        }
      ]
    },
    {
      "cell_type": "code",
      "source": [
        "\n",
        "def reordenar_lista(lista):\n",
        "\n",
        "    cambiar_lista = lista[1:-1][::-1]\n",
        "    return [lista[0]] + cambiar_lista + [lista[-1]]\n",
        "\n",
        "g = [1, 2, 6, 4]\n",
        "\n",
        "r = reordenar_lista(g)\n",
        "print(r)"
      ],
      "metadata": {
        "colab": {
          "base_uri": "https://localhost:8080/"
        },
        "id": "N4fT_9NN9nKB",
        "outputId": "7e04f36c-e03f-44df-8c13-f8bf45ae538f"
      },
      "execution_count": 10,
      "outputs": [
        {
          "output_type": "stream",
          "name": "stdout",
          "text": [
            "[1, 6, 2, 4]\n"
          ]
        }
      ]
    },
    {
      "cell_type": "code",
      "source": [
        "def reordenar_lista(lista):\n",
        "\n",
        "    cambiar_lista = lista[1:-1][::-1]\n",
        "    return [lista[0]] + cambiar_lista + [lista[-1]]\n",
        "\n",
        "g = [1, 2, 3]\n",
        "\n",
        "r = reordenar_lista(g)\n",
        "print(r)"
      ],
      "metadata": {
        "colab": {
          "base_uri": "https://localhost:8080/"
        },
        "id": "L43Qf_Et9r-l",
        "outputId": "8674cda0-af4d-42f3-bfe5-061e3593f407"
      },
      "execution_count": 11,
      "outputs": [
        {
          "output_type": "stream",
          "name": "stdout",
          "text": [
            "[1, 2, 3]\n"
          ]
        }
      ]
    },
    {
      "cell_type": "code",
      "source": [
        "def reordenar_lista(lista):\n",
        "\n",
        "    cambiar_lista = lista[1:-1][::-1]\n",
        "    return [lista[0]] + cambiar_lista + [lista[-1]]\n",
        "\n",
        "g = [1, 2]\n",
        "\n",
        "r = reordenar_lista(g)\n",
        "print(r)"
      ],
      "metadata": {
        "colab": {
          "base_uri": "https://localhost:8080/"
        },
        "id": "DFRSF-HS9uwr",
        "outputId": "d7cd2587-77be-4c3c-ce46-9a11a390fda1"
      },
      "execution_count": 12,
      "outputs": [
        {
          "output_type": "stream",
          "name": "stdout",
          "text": [
            "[1, 2]\n"
          ]
        }
      ]
    }
  ]
}