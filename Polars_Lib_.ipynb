{
  "nbformat": 4,
  "nbformat_minor": 0,
  "metadata": {
    "colab": {
      "provenance": [],
      "authorship_tag": "ABX9TyObFN4eZ2gJmLh2Ce9t0pck",
      "include_colab_link": true
    },
    "kernelspec": {
      "name": "python3",
      "display_name": "Python 3"
    },
    "language_info": {
      "name": "python"
    }
  },
  "cells": [
    {
      "cell_type": "markdown",
      "metadata": {
        "id": "view-in-github",
        "colab_type": "text"
      },
      "source": [
        "<a href=\"https://colab.research.google.com/github/pachecojulian/Actividades-Programacion/blob/main/Polars_Lib_.ipynb\" target=\"_parent\"><img src=\"https://colab.research.google.com/assets/colab-badge.svg\" alt=\"Open In Colab\"/></a>"
      ]
    },
    {
      "cell_type": "code",
      "execution_count": 1,
      "metadata": {
        "colab": {
          "base_uri": "https://localhost:8080/"
        },
        "id": "RNfc5UCJ7Uql",
        "outputId": "17478de8-0c38-49d7-b0ca-281ec549d76f"
      },
      "outputs": [
        {
          "output_type": "stream",
          "name": "stdout",
          "text": [
            "Requirement already satisfied: polars in /usr/local/lib/python3.10/dist-packages (0.17.3)\n",
            "Requirement already satisfied: typing_extensions>=4.0.1 in /usr/local/lib/python3.10/dist-packages (from polars) (4.5.0)\n"
          ]
        }
      ],
      "source": [
        "pip install polars"
      ]
    },
    {
      "cell_type": "code",
      "source": [
        "import polars as pl\n",
        "\n",
        "s = pl.Series(\"a\", [1, 2, 3, 4, 5])\n",
        "print(s)"
      ],
      "metadata": {
        "colab": {
          "base_uri": "https://localhost:8080/"
        },
        "id": "DalA0-4K7eeI",
        "outputId": "3201e7b6-2ae0-4849-be12-9ae250bf3950"
      },
      "execution_count": 2,
      "outputs": [
        {
          "output_type": "stream",
          "name": "stdout",
          "text": [
            "shape: (5,)\n",
            "Series: 'a' [i64]\n",
            "[\n",
            "\t1\n",
            "\t2\n",
            "\t3\n",
            "\t4\n",
            "\t5\n",
            "]\n"
          ]
        }
      ]
    },
    {
      "cell_type": "code",
      "source": [
        "from datetime import datetime\n",
        "\n",
        "df = pl.DataFrame(\n",
        "    {\n",
        "\n",
        "        \"integer\": [1, 2, 3, 4, 5],\n",
        "        \"date\": [\n",
        "            datetime(2022, 1, 1),\n",
        "            datetime(2022, 1, 2),\n",
        "            datetime(2022, 1, 3),\n",
        "            datetime(2022, 1, 4),\n",
        "            datetime(2022, 1, 5),\n",
        "        ],\n",
        "        \"float\": [4.0, 5.0, 6.0, 7.0, 8.0],\n",
        "        \"int\": [0, 1, 2, 3, 4],\n",
        "    }\n",
        ")\n",
        "\n",
        "print(df)"
      ],
      "metadata": {
        "colab": {
          "base_uri": "https://localhost:8080/"
        },
        "id": "CFdyKS-W7iP2",
        "outputId": "8c877818-14f2-44db-d058-864caed9ec8f"
      },
      "execution_count": 4,
      "outputs": [
        {
          "output_type": "stream",
          "name": "stdout",
          "text": [
            "shape: (5, 4)\n",
            "┌─────────┬─────────────────────┬───────┬─────┐\n",
            "│ integer ┆ date                ┆ float ┆ int │\n",
            "│ ---     ┆ ---                 ┆ ---   ┆ --- │\n",
            "│ i64     ┆ datetime[μs]        ┆ f64   ┆ i64 │\n",
            "╞═════════╪═════════════════════╪═══════╪═════╡\n",
            "│ 1       ┆ 2022-01-01 00:00:00 ┆ 4.0   ┆ 0   │\n",
            "│ 2       ┆ 2022-01-02 00:00:00 ┆ 5.0   ┆ 1   │\n",
            "│ 3       ┆ 2022-01-03 00:00:00 ┆ 6.0   ┆ 2   │\n",
            "│ 4       ┆ 2022-01-04 00:00:00 ┆ 7.0   ┆ 3   │\n",
            "│ 5       ┆ 2022-01-05 00:00:00 ┆ 8.0   ┆ 4   │\n",
            "└─────────┴─────────────────────┴───────┴─────┘\n"
          ]
        }
      ]
    },
    {
      "cell_type": "code",
      "source": [
        "import polars as pl\n",
        "import numpy as np\n",
        "from datetime import datetime\n",
        "\n",
        "df = pl.DataFrame(\n",
        "    {\n",
        "        \"nrs\": [1, 2, 3, None, 5],\n",
        "        \"names\": [\"foo\", \"ham\", \"spam\", \"egg\", None],\n",
        "        \"random\": np.random.rand(5),\n",
        "        \"groups\": [\"A\", \"A\", \"B\", \"C\", \"B\"],\n",
        "  }\n",
        ")\n",
        "\n",
        "print(df)"
      ],
      "metadata": {
        "colab": {
          "base_uri": "https://localhost:8080/"
        },
        "id": "iIO0M8in7nNF",
        "outputId": "978576d8-b081-4164-8e5e-edeb4be350a3"
      },
      "execution_count": 5,
      "outputs": [
        {
          "output_type": "stream",
          "name": "stdout",
          "text": [
            "shape: (5, 4)\n",
            "┌──────┬───────┬──────────┬────────┐\n",
            "│ nrs  ┆ names ┆ random   ┆ groups │\n",
            "│ ---  ┆ ---   ┆ ---      ┆ ---    │\n",
            "│ i64  ┆ str   ┆ f64      ┆ str    │\n",
            "╞══════╪═══════╪══════════╪════════╡\n",
            "│ 1    ┆ foo   ┆ 0.267595 ┆ A      │\n",
            "│ 2    ┆ ham   ┆ 0.029826 ┆ A      │\n",
            "│ 3    ┆ spam  ┆ 0.505097 ┆ B      │\n",
            "│ null ┆ egg   ┆ 0.998133 ┆ C      │\n",
            "│ 5    ┆ null  ┆ 0.454356 ┆ B      │\n",
            "└──────┴───────┴──────────┴────────┘\n"
          ]
        }
      ]
    },
    {
      "cell_type": "code",
      "source": [
        "out = df.select(\n",
        "  pl.sum(\"nrs\"),\n",
        "  pl.col(\"names\").sort(),\n",
        "  pl.col(\"random\"),\n",
        "  pl.col(\"names\").first().alias(\"first name\"),\n",
        "  (pl.mean(\"nrs\") * 10).alias(\"10xnrs\"),\n",
        ")\n",
        "\n",
        "\n",
        "\n",
        "print(out)"
      ],
      "metadata": {
        "colab": {
          "base_uri": "https://localhost:8080/"
        },
        "id": "GOZXQwHc7qhE",
        "outputId": "7bbfe0c6-adaf-40fd-fa88-c0ca7490c013"
      },
      "execution_count": 6,
      "outputs": [
        {
          "output_type": "stream",
          "name": "stdout",
          "text": [
            "shape: (5, 5)\n",
            "┌─────┬───────┬──────────┬────────────┬────────┐\n",
            "│ nrs ┆ names ┆ random   ┆ first name ┆ 10xnrs │\n",
            "│ --- ┆ ---   ┆ ---      ┆ ---        ┆ ---    │\n",
            "│ i64 ┆ str   ┆ f64      ┆ str        ┆ f64    │\n",
            "╞═════╪═══════╪══════════╪════════════╪════════╡\n",
            "│ 11  ┆ null  ┆ 0.267595 ┆ foo        ┆ 27.5   │\n",
            "│ 11  ┆ egg   ┆ 0.029826 ┆ foo        ┆ 27.5   │\n",
            "│ 11  ┆ foo   ┆ 0.505097 ┆ foo        ┆ 27.5   │\n",
            "│ 11  ┆ ham   ┆ 0.998133 ┆ foo        ┆ 27.5   │\n",
            "│ 11  ┆ spam  ┆ 0.454356 ┆ foo        ┆ 27.5   │\n",
            "└─────┴───────┴──────────┴────────────┴────────┘\n"
          ]
        }
      ]
    },
    {
      "cell_type": "code",
      "source": [
        "df = df.with_columns(\n",
        "    pl.sum(\"nrs\").alias(\"nrs_sum\"),\n",
        "    pl.col(\"random\").count().alias(\"count\"),\n",
        ")\n",
        "print(df)"
      ],
      "metadata": {
        "colab": {
          "base_uri": "https://localhost:8080/"
        },
        "id": "hRa7RXZ97wQB",
        "outputId": "8d7ed0fd-a68b-4d3c-b0a2-4bd00f837199"
      },
      "execution_count": 7,
      "outputs": [
        {
          "output_type": "stream",
          "name": "stdout",
          "text": [
            "shape: (5, 6)\n",
            "┌──────┬───────┬──────────┬────────┬─────────┬───────┐\n",
            "│ nrs  ┆ names ┆ random   ┆ groups ┆ nrs_sum ┆ count │\n",
            "│ ---  ┆ ---   ┆ ---      ┆ ---    ┆ ---     ┆ ---   │\n",
            "│ i64  ┆ str   ┆ f64      ┆ str    ┆ i64     ┆ u32   │\n",
            "╞══════╪═══════╪══════════╪════════╪═════════╪═══════╡\n",
            "│ 1    ┆ foo   ┆ 0.267595 ┆ A      ┆ 11      ┆ 5     │\n",
            "│ 2    ┆ ham   ┆ 0.029826 ┆ A      ┆ 11      ┆ 5     │\n",
            "│ 3    ┆ spam  ┆ 0.505097 ┆ B      ┆ 11      ┆ 5     │\n",
            "│ null ┆ egg   ┆ 0.998133 ┆ C      ┆ 11      ┆ 5     │\n",
            "│ 5    ┆ null  ┆ 0.454356 ┆ B      ┆ 11      ┆ 5     │\n",
            "└──────┴───────┴──────────┴────────┴─────────┴───────┘\n"
          ]
        }
      ]
    }
  ]
}