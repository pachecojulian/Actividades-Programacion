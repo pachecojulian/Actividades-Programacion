{
  "nbformat": 4,
  "nbformat_minor": 0,
  "metadata": {
    "colab": {
      "provenance": [],
      "authorship_tag": "ABX9TyOiDhsH94EXbxHRfUkOIcNG",
      "include_colab_link": true
    },
    "kernelspec": {
      "name": "python3",
      "display_name": "Python 3"
    },
    "language_info": {
      "name": "python"
    }
  },
  "cells": [
    {
      "cell_type": "markdown",
      "metadata": {
        "id": "view-in-github",
        "colab_type": "text"
      },
      "source": [
        "<a href=\"https://colab.research.google.com/github/pachecojulian/Actividades-Programacion/blob/main/Reto_2023_1010.ipynb\" target=\"_parent\"><img src=\"https://colab.research.google.com/assets/colab-badge.svg\" alt=\"Open In Colab\"/></a>"
      ]
    },
    {
      "cell_type": "code",
      "execution_count": 2,
      "metadata": {
        "colab": {
          "base_uri": "https://localhost:8080/"
        },
        "id": "KGhYPDHiH1hD",
        "outputId": "7a3f2afc-3369-43da-feb7-1781e2899c1d"
      },
      "outputs": [
        {
          "output_type": "stream",
          "name": "stdout",
          "text": [
            "array('f', [5.0, 4.0, 6.0])\n"
          ]
        }
      ],
      "source": [
        "from array import array\n",
        "lista_1= [1,2,3]\n",
        "lista_2= [4,2,3]\n",
        "lista_3= [5,6,7]\n",
        "lista_4= [7,8,9]\n",
        "array1 = array(\"f\",lista_1)\n",
        "array2 = array(\"f\", lista_2)\n",
        "array3 = array(\"f\", lista_3)\n",
        "if len(array1) == len(array2):\n",
        "  suma_de_arreglos= array(\"f\",[])\n",
        "  for i in range(len(array1)):\n",
        "    suma_de_arreglos.append(array1[i] + array2[i])\n",
        "  print(suma_de_arreglos)\n",
        "else:\n",
        "  print(\"Los arrays no tienen la misma cantidad de elementos, por lo tanto, no se pueden sumar\")"
      ]
    },
    {
      "cell_type": "code",
      "source": [],
      "metadata": {
        "id": "cdz6H8ZAczLa"
      },
      "execution_count": 2,
      "outputs": []
    },
    {
      "cell_type": "code",
      "source": [
        "a_a1=[array1,array2,array3]\n",
        "a_a1"
      ],
      "metadata": {
        "colab": {
          "base_uri": "https://localhost:8080/"
        },
        "id": "taw0gFfPIuat",
        "outputId": "85a8db56-c41b-4bd5-874a-3f94be96da17"
      },
      "execution_count": 3,
      "outputs": [
        {
          "output_type": "execute_result",
          "data": {
            "text/plain": [
              "[array('f', [1.0, 2.0, 3.0]),\n",
              " array('f', [4.0, 2.0, 3.0]),\n",
              " array('f', [5.0, 6.0, 7.0])]"
            ]
          },
          "metadata": {},
          "execution_count": 3
        }
      ]
    },
    {
      "cell_type": "code",
      "source": [
        "a_a1=[array1,array2,array3]\n",
        "print(a_a1)\n",
        "def intercambiar_renglones(a_a1,array1,array3):\n",
        "  a_a1[array1],a_a1[array3] = a_a1[array3],a_a1[array1]\n",
        "intercambiar_renglones(a_a1,0,2)\n",
        "for array in a_a1:\n",
        "  print(list(a_a1))\n"
      ],
      "metadata": {
        "colab": {
          "base_uri": "https://localhost:8080/"
        },
        "id": "vTlXWKdeUi8G",
        "outputId": "0b2bab71-129e-4e4c-b79e-159f562ab6c0"
      },
      "execution_count": 4,
      "outputs": [
        {
          "output_type": "stream",
          "name": "stdout",
          "text": [
            "[array('f', [1.0, 2.0, 3.0]), array('f', [4.0, 2.0, 3.0]), array('f', [5.0, 6.0, 7.0])]\n",
            "[array('f', [5.0, 6.0, 7.0]), array('f', [4.0, 2.0, 3.0]), array('f', [1.0, 2.0, 3.0])]\n",
            "[array('f', [5.0, 6.0, 7.0]), array('f', [4.0, 2.0, 3.0]), array('f', [1.0, 2.0, 3.0])]\n",
            "[array('f', [5.0, 6.0, 7.0]), array('f', [4.0, 2.0, 3.0]), array('f', [1.0, 2.0, 3.0])]\n"
          ]
        }
      ]
    },
    {
      "cell_type": "code",
      "source": [
        "a_a2=[array3,array1,array2]\n",
        "print(a_a2)"
      ],
      "metadata": {
        "colab": {
          "base_uri": "https://localhost:8080/"
        },
        "id": "lAJir5kEc02I",
        "outputId": "ef4f706e-dcda-4ffa-a6a9-b92d7890f834"
      },
      "execution_count": 6,
      "outputs": [
        {
          "output_type": "stream",
          "name": "stdout",
          "text": [
            "[array('f', [5.0, 6.0, 7.0]), array('f', [1.0, 2.0, 3.0]), array('f', [4.0, 2.0, 3.0])]\n"
          ]
        }
      ]
    },
    {
      "cell_type": "code",
      "source": [
        "resultado= []\n",
        "producto_punto=0\n",
        "for i in range(len(a_a1)):\n",
        "\n",
        "  for j in range(len(a_a1[i])):\n",
        "    producto_punto+=(a_a1[i][j]*a_a2[i][j])\n",
        "\n",
        "    print(producto_punto)"
      ],
      "metadata": {
        "colab": {
          "base_uri": "https://localhost:8080/"
        },
        "id": "zxI8lRKWd09J",
        "outputId": "ae3beb5d-97dd-4ffd-a2c1-1ce6b27b1474"
      },
      "execution_count": 8,
      "outputs": [
        {
          "output_type": "stream",
          "name": "stdout",
          "text": [
            "25.0\n",
            "61.0\n",
            "110.0\n",
            "114.0\n",
            "118.0\n",
            "127.0\n",
            "131.0\n",
            "135.0\n",
            "144.0\n"
          ]
        }
      ]
    }
  ]
}