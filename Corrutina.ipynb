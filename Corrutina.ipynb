{
  "nbformat": 4,
  "nbformat_minor": 0,
  "metadata": {
    "colab": {
      "provenance": [],
      "authorship_tag": "ABX9TyMpcKCO7kIyGLo7/ksG8dzj",
      "include_colab_link": true
    },
    "kernelspec": {
      "name": "python3",
      "display_name": "Python 3"
    },
    "language_info": {
      "name": "python"
    }
  },
  "cells": [
    {
      "cell_type": "markdown",
      "metadata": {
        "id": "view-in-github",
        "colab_type": "text"
      },
      "source": [
        "<a href=\"https://colab.research.google.com/github/pachecojulian/Actividades-Programacion/blob/main/Corrutina.ipynb\" target=\"_parent\"><img src=\"https://colab.research.google.com/assets/colab-badge.svg\" alt=\"Open In Colab\"/></a>"
      ]
    },
    {
      "cell_type": "code",
      "execution_count": 2,
      "metadata": {
        "colab": {
          "base_uri": "https://localhost:8080/"
        },
        "id": "uXXU1xMI93ym",
        "outputId": "ce307886-23fa-45db-9490-596cea93322c"
      },
      "outputs": [
        {
          "output_type": "stream",
          "name": "stdout",
          "text": [
            "Adivine un numero del 1 al 105  5\n",
            "Vuelve a intentar\n",
            "Adivine un numero del 1 al 105  67\n",
            "Vuelve a intentar\n",
            "Adivine un numero del 1 al 105  -1\n",
            "Vuelve a intentar\n",
            "Adivine un numero del 1 al 105  18\n",
            "Gano\n"
          ]
        }
      ],
      "source": [
        "def EjemploCorrutina(secreto=18):\n",
        "  numero = yield 'Adivine un numero del 1 al 105}  '\n",
        "  while True:\n",
        "   if numero==secreto:\n",
        "      mensaje = \"Gano\"\n",
        "   else:\n",
        "      mensaje= \"Vuelve a intentar\"\n",
        "   numero= yield mensaje\n",
        "\n",
        "una_corrutina=EjemploCorrutina(18)\n",
        "pregunta= next(una_corrutina)\n",
        "while True:\n",
        "  numero=int(input(pregunta))\n",
        "  mensaje=una_corrutina.send(numero)\n",
        "  print(mensaje)\n",
        "  if mensaje=='Gano':\n",
        "    break"
      ]
    }
  ]
}