{
  "nbformat": 4,
  "nbformat_minor": 0,
  "metadata": {
    "colab": {
      "provenance": [],
      "authorship_tag": "ABX9TyOGqgswC/KbIYKUp47qZSM0",
      "include_colab_link": true
    },
    "kernelspec": {
      "name": "python3",
      "display_name": "Python 3"
    },
    "language_info": {
      "name": "python"
    }
  },
  "cells": [
    {
      "cell_type": "markdown",
      "metadata": {
        "id": "view-in-github",
        "colab_type": "text"
      },
      "source": [
        "<a href=\"https://colab.research.google.com/github/pachecojulian/Actividades-Programacion/blob/main/Reto_2023_0926.ipynb\" target=\"_parent\"><img src=\"https://colab.research.google.com/assets/colab-badge.svg\" alt=\"Open In Colab\"/></a>"
      ]
    },
    {
      "cell_type": "code",
      "execution_count": 25,
      "metadata": {
        "colab": {
          "base_uri": "https://localhost:8080/"
        },
        "id": "KGhYPDHiH1hD",
        "outputId": "f9a30682-0fab-4de9-d9fa-33bd002bd4c3"
      },
      "outputs": [
        {
          "output_type": "stream",
          "name": "stdout",
          "text": [
            "array('f', [5.0, 4.0, 6.0])\n"
          ]
        }
      ],
      "source": [
        "from array import array\n",
        "lista_1= [1,2,3]\n",
        "lista_2= [4,2,3]\n",
        "lista_3= [5,6,7]\n",
        "lista_4= [7,8,9]\n",
        "array1 = array(\"f\",lista_1)\n",
        "array2 = array(\"f\", lista_2)\n",
        "array3 = array(\"f\", lista_3)\n",
        "if len(array1) == len(array2):\n",
        "  suma_de_arreglos= array(\"f\",[])\n",
        "  for i in range(len(array1)):\n",
        "    suma_de_arreglos.append(array1[i] + array2[i])\n",
        "  print(suma_de_arreglos)\n",
        "else:\n",
        "  print(\"Los arrays no tienen la misma cantidad de elementos, por lo tanto, no se pueden sumar\")"
      ]
    },
    {
      "cell_type": "code",
      "source": [
        "a_a1=[array1,array2,array3]\n",
        "a_a1"
      ],
      "metadata": {
        "colab": {
          "base_uri": "https://localhost:8080/"
        },
        "id": "taw0gFfPIuat",
        "outputId": "a45438d2-e108-4ccb-992c-4b403a71d0be"
      },
      "execution_count": 26,
      "outputs": [
        {
          "output_type": "execute_result",
          "data": {
            "text/plain": [
              "[array('f', [1.0, 2.0, 3.0]),\n",
              " array('f', [4.0, 2.0, 3.0]),\n",
              " array('f', [5.0, 6.0, 7.0])]"
            ]
          },
          "metadata": {},
          "execution_count": 26
        }
      ]
    },
    {
      "cell_type": "code",
      "source": [
        "a_a1=[array1,array2,array3]\n",
        "print(a_a1)\n",
        "def intercambiar_renglones(a_a1,array1,array3):\n",
        "  a_a1[array1],a_a1[array3] = a_a1[array3],a_a1[array1]\n",
        "intercambiar_renglones(a_a1,0,2)\n",
        "for array in a_a1:\n",
        "  print(list(a_a1))\n"
      ],
      "metadata": {
        "colab": {
          "base_uri": "https://localhost:8080/"
        },
        "id": "vTlXWKdeUi8G",
        "outputId": "a6f27407-53dc-48a7-c3f7-6f1720ab51fd"
      },
      "execution_count": 29,
      "outputs": [
        {
          "output_type": "stream",
          "name": "stdout",
          "text": [
            "[array('f', [1.0, 2.0, 3.0]), array('f', [4.0, 2.0, 3.0]), array('f', [5.0, 6.0, 7.0])]\n",
            "[array('f', [5.0, 6.0, 7.0]), array('f', [4.0, 2.0, 3.0]), array('f', [1.0, 2.0, 3.0])]\n",
            "[array('f', [5.0, 6.0, 7.0]), array('f', [4.0, 2.0, 3.0]), array('f', [1.0, 2.0, 3.0])]\n",
            "[array('f', [5.0, 6.0, 7.0]), array('f', [4.0, 2.0, 3.0]), array('f', [1.0, 2.0, 3.0])]\n"
          ]
        }
      ]
    }
  ]
}