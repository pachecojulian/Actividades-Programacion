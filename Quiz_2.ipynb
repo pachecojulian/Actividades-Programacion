{
  "nbformat": 4,
  "nbformat_minor": 0,
  "metadata": {
    "colab": {
      "provenance": [],
      "authorship_tag": "ABX9TyOHwhcyNkZafJRrbIcvtm/D",
      "include_colab_link": true
    },
    "kernelspec": {
      "name": "python3",
      "display_name": "Python 3"
    },
    "language_info": {
      "name": "python"
    }
  },
  "cells": [
    {
      "cell_type": "markdown",
      "metadata": {
        "id": "view-in-github",
        "colab_type": "text"
      },
      "source": [
        "<a href=\"https://colab.research.google.com/github/pachecojulian/Actividades-Programacion/blob/main/Quiz_2.ipynb\" target=\"_parent\"><img src=\"https://colab.research.google.com/assets/colab-badge.svg\" alt=\"Open In Colab\"/></a>"
      ]
    },
    {
      "cell_type": "code",
      "execution_count": 1,
      "metadata": {
        "colab": {
          "base_uri": "https://localhost:8080/"
        },
        "id": "K_3TDqJd6F5G",
        "outputId": "965ad9bf-cbb5-4bee-9383-bbad401d4eef"
      },
      "outputs": [
        {
          "output_type": "stream",
          "name": "stdout",
          "text": [
            "\begin{itemize}\n",
            "\n",
            "  \\item uno\n",
            "  \\item dos\n",
            "  \\item tres\n",
            "\n",
            "\\end{itemize}\n"
          ]
        }
      ],
      "source": [
        "txt = 'uno, dos, tres'\n",
        "\n",
        "print(\"\\begin{itemize}\\n\")\n",
        "\n",
        "def texlatex2(txt):\n",
        "    items = txt.split(', ')\n",
        "    latex_list =\"  \\item \" + \"\\n  \\item \".join(items) + \"\\n\"\n",
        "    return latex_list\n",
        "\n",
        "latex_output = texlatex2(txt)\n",
        "\n",
        "latex_output\n",
        "print(latex_output)\n",
        "\n",
        "print(\"\\end{itemize}\")"
      ]
    },
    {
      "cell_type": "code",
      "source": [
        "txt = 'A,B,C,D'\n",
        "\n",
        "print(\"\\begin{itemize}\\n\")\n",
        "\n",
        "def texlatex2(txt):\n",
        "    items = txt.split(', ')\n",
        "    latex_list =\"  \\item \" + \"\\n  \\item \".join(items) + \"\\n\"\n",
        "    return latex_list\n",
        "\n",
        "latex_output = texlatex2(txt)\n",
        "\n",
        "latex_output\n",
        "print(latex_output)\n",
        "\n",
        "print(\"\\end{itemize}\")"
      ],
      "metadata": {
        "colab": {
          "base_uri": "https://localhost:8080/"
        },
        "id": "14kNOs4n6RMS",
        "outputId": "abd9faac-07f4-4dd1-e718-63370ea4fc0d"
      },
      "execution_count": 2,
      "outputs": [
        {
          "output_type": "stream",
          "name": "stdout",
          "text": [
            "\begin{itemize}\n",
            "\n",
            "  \\item A,B,C,D\n",
            "\n",
            "\\end{itemize}\n"
          ]
        }
      ]
    },
    {
      "cell_type": "code",
      "source": [
        "txt = 'A, B, C, D'\n",
        "\n",
        "print(\"\\begin{itemize}\\n\")\n",
        "\n",
        "def texlatex2(txt):\n",
        "    items = txt.split(', ')\n",
        "    latex_list =\"  \\item \" + \"\\n  \\item \".join(items) + \"\\n\"\n",
        "    return latex_list\n",
        "\n",
        "latex_output = texlatex2(txt)\n",
        "\n",
        "latex_output\n",
        "print(latex_output)\n",
        "\n",
        "print(\"\\end{itemize}\")"
      ],
      "metadata": {
        "colab": {
          "base_uri": "https://localhost:8080/"
        },
        "id": "3ZHDGp8c6ayo",
        "outputId": "80aa1414-3e85-4842-c9ac-4d1c9c65c564"
      },
      "execution_count": 3,
      "outputs": [
        {
          "output_type": "stream",
          "name": "stdout",
          "text": [
            "\begin{itemize}\n",
            "\n",
            "  \\item A\n",
            "  \\item B\n",
            "  \\item C\n",
            "  \\item D\n",
            "\n",
            "\\end{itemize}\n"
          ]
        }
      ]
    }
  ]
}