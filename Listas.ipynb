{
  "nbformat": 4,
  "nbformat_minor": 0,
  "metadata": {
    "colab": {
      "provenance": [],
      "authorship_tag": "ABX9TyNOx/KNhh8FCfcXMzvdu+FK",
      "include_colab_link": true
    },
    "kernelspec": {
      "name": "python3",
      "display_name": "Python 3"
    },
    "language_info": {
      "name": "python"
    }
  },
  "cells": [
    {
      "cell_type": "markdown",
      "metadata": {
        "id": "view-in-github",
        "colab_type": "text"
      },
      "source": [
        "<a href=\"https://colab.research.google.com/github/pachecojulian/Actividades-Programacion/blob/main/Listas.ipynb\" target=\"_parent\"><img src=\"https://colab.research.google.com/assets/colab-badge.svg\" alt=\"Open In Colab\"/></a>"
      ]
    },
    {
      "cell_type": "code",
      "execution_count": 1,
      "metadata": {
        "colab": {
          "base_uri": "https://localhost:8080/"
        },
        "id": "eOnadmRf5YK_",
        "outputId": "7b8a5859-0479-4986-9fad-3a7e0ef8abdf"
      },
      "outputs": [
        {
          "output_type": "stream",
          "name": "stdout",
          "text": [
            "[6, 2, 4, 2, 1]\n"
          ]
        }
      ],
      "source": [
        "def eliminar_cero(lista, elemento):\n",
        "    return list(filter(lambda x: x != elemento, lista))\n",
        "\n",
        "l = [1,2,0,4,2,6]\n",
        "numero = 0\n",
        "\n",
        "r = eliminar_cero(l, numero)\n",
        "m=list(reversed(r))\n",
        "print(m)"
      ]
    },
    {
      "cell_type": "code",
      "source": [
        "\n",
        "def eliminar_cero(lista, elemento):\n",
        "    return list(filter(lambda x: x != elemento, lista))\n",
        "\n",
        "l = [0,1,0,2,0,3]\n",
        "numero = 0\n",
        "\n",
        "r = eliminar_cero(l, numero)\n",
        "m=list(reversed(r))\n",
        "print(m)"
      ],
      "metadata": {
        "colab": {
          "base_uri": "https://localhost:8080/"
        },
        "id": "fzbZmzWM5frO",
        "outputId": "6f976ae8-26d4-4a21-d8bc-6f09a26dcde8"
      },
      "execution_count": 2,
      "outputs": [
        {
          "output_type": "stream",
          "name": "stdout",
          "text": [
            "[3, 2, 1]\n"
          ]
        }
      ]
    },
    {
      "cell_type": "code",
      "source": [
        "\n",
        "def eliminar_cero(lista, elemento):\n",
        "    return list(filter(lambda x: x != elemento, lista))\n",
        "\n",
        "l = [0,0,2,2,3,3]\n",
        "numero = 0\n",
        "\n",
        "r = eliminar_cero(l, numero)\n",
        "m=list(reversed(r))\n",
        "print(m)\n",
        ""
      ],
      "metadata": {
        "colab": {
          "base_uri": "https://localhost:8080/"
        },
        "id": "VjW0AeCx5i9O",
        "outputId": "bfcfb832-e709-4a05-b2f7-0fe13cabab92"
      },
      "execution_count": 3,
      "outputs": [
        {
          "output_type": "stream",
          "name": "stdout",
          "text": [
            "[3, 3, 2, 2]\n"
          ]
        }
      ]
    }
  ]
}