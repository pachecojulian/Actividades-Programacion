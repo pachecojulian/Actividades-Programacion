{
  "nbformat": 4,
  "nbformat_minor": 0,
  "metadata": {
    "colab": {
      "provenance": [],
      "authorship_tag": "ABX9TyNHre9CQUGQp8WiTUcSTN1x",
      "include_colab_link": true
    },
    "kernelspec": {
      "name": "python3",
      "display_name": "Python 3"
    },
    "language_info": {
      "name": "python"
    }
  },
  "cells": [
    {
      "cell_type": "markdown",
      "metadata": {
        "id": "view-in-github",
        "colab_type": "text"
      },
      "source": [
        "<a href=\"https://colab.research.google.com/github/pachecojulian/Actividades-Programacion/blob/main/Matriz_escalon_.ipynb\" target=\"_parent\"><img src=\"https://colab.research.google.com/assets/colab-badge.svg\" alt=\"Open In Colab\"/></a>"
      ]
    },
    {
      "cell_type": "code",
      "execution_count": 1,
      "metadata": {
        "id": "oLhdG5Ls_LgC",
        "outputId": "05b94107-7ca9-4666-e2f8-4033e36c3572",
        "colab": {
          "base_uri": "https://localhost:8080/",
          "height": 98
        }
      },
      "outputs": [
        {
          "output_type": "execute_result",
          "data": {
            "text/plain": [
              "Matrix([\n",
              "[1, 2, 3],\n",
              "[0, 3, 7],\n",
              "[0, 2, 0],\n",
              "[0, 3, 7]])"
            ],
            "text/latex": "$\\displaystyle \\left[\\begin{matrix}1 & 2 & 3\\\\0 & 3 & 7\\\\0 & 2 & 0\\\\0 & 3 & 7\\end{matrix}\\right]$"
          },
          "metadata": {},
          "execution_count": 1
        }
      ],
      "source": [
        "import sympy as sp\n",
        "\n",
        "A=sp.Matrix([\n",
        "    [1,2,3],\n",
        "    [0,3,7],\n",
        "    [0,2,0],\n",
        "    [0,3,7],\n",
        "\n",
        "])\n",
        "M=A[:,:]\n",
        "M"
      ]
    },
    {
      "cell_type": "code",
      "source": [
        "import sympy as sp\n",
        "\n",
        "def formaescalon(M):\n",
        "    nfilas = M.shape[0]\n",
        "    ncolumnas = M.shape[1]\n",
        "\n",
        "    if nfilas > ncolumnas:\n",
        "        for elemento_actual in range(0, ncolumnas):\n",
        "            if M[elemento_actual, elemento_actual] == 0:\n",
        "                for fila_posible in range(elemento_actual + 1, nfilas):\n",
        "                    if M[fila_posible, elemento_actual] != 0:\n",
        "                        M.row_swap(elemento_actual, fila_posible)\n",
        "                        break\n",
        "            M[elemento_actual, :] = M[elemento_actual, :] * (1 / M[elemento_actual, elemento_actual])\n",
        "            for fila_actual in range(elemento_actual + 1, nfilas):\n",
        "                M[fila_actual, :] = M[fila_actual, :] - M[elemento_actual, :] * M[fila_actual, elemento_actual]\n",
        "\n",
        "    if ncolumnas<nfilas:\n",
        "\n",
        "      for columna_actual in range(0, ncolumnas):\n",
        "          if M[columna_actual, columna_actual] == 0:\n",
        "              for columna_posible in range(columna_actual + 1, ncolumnas):\n",
        "                  if M[columna_posible, columna_actual] != 0:\n",
        "                      M.column_swap(columna_actual, columna_posible)\n",
        "                      break\n",
        "          M[:, columna_actual] = M[:, columna_actual] * (1 / M[columna_actual, columna_actual])\n",
        "          for fila_actual in range(columna_actual + 1, nfilas):\n",
        "              M[fila_actual, :] = M[fila_actual, :] - M[fila_actual, columna_actual] * M[columna_actual, :]\n",
        "\n",
        "    return M\n",
        "\n",
        "escalon_M = formaescalon(M)\n",
        "escalon_M"
      ],
      "metadata": {
        "id": "iz6e4ULq_RkK",
        "outputId": "e03dbf07-e939-4819-d71b-8b3063d654e9",
        "colab": {
          "base_uri": "https://localhost:8080/",
          "height": 98
        }
      },
      "execution_count": 2,
      "outputs": [
        {
          "output_type": "execute_result",
          "data": {
            "text/plain": [
              "Matrix([\n",
              "[1, 2,   3],\n",
              "[0, 1, 7/3],\n",
              "[0, 0,   1],\n",
              "[0, 0,   0]])"
            ],
            "text/latex": "$\\displaystyle \\left[\\begin{matrix}1 & 2 & 3\\\\0 & 1 & \\frac{7}{3}\\\\0 & 0 & 1\\\\0 & 0 & 0\\end{matrix}\\right]$"
          },
          "metadata": {},
          "execution_count": 2
        }
      ]
    }
  ]
}